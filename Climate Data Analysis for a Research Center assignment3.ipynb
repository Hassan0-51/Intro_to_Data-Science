{
 "cells": [
  {
   "cell_type": "code",
   "execution_count": 2,
   "metadata": {},
   "outputs": [
    {
     "name": "stdout",
     "output_type": "stream",
     "text": [
      "[{'customer': 'Alice', 'total': 250.5}, {'customer': 'Charlie', 'total': 450}, {'customer': 'Daisy', 'total': 100.0}]\n",
      "[{'customer': 'Alice', 'total': 250.5}, {'customer': 'Charlie', 'total': 405.0}, {'customer': 'Daisy', 'total': 100.0}]\n",
      "Total Sales: 755.5\n"
     ]
    }
   ],
   "source": [
    "# Task 1\n",
    "\n",
    "orders = [\n",
    "    {\"customer\": \"Alice\", \"total\": 250.5},\n",
    "    {\"customer\": \"Bob\", \"total\": \"invalid_data\"},\n",
    "    {\"customer\": \"Charlie\", \"total\": 450},\n",
    "    {\"customer\": \"Daisy\", \"total\": 100.0},\n",
    "    {\"customer\": \"Eve\", \"total\": -30},\n",
    "]\n",
    "\n",
    "def validate_orders(order_list):\n",
    "    def is_valid(order):\n",
    "        try:\n",
    "            return isinstance(order[\"total\"], (int, float)) and order[\"total\"] >= 0\n",
    "        except:\n",
    "            return False\n",
    "\n",
    "    valid_orders = list(filter(lambda order: is_valid(order), order_list))\n",
    "    return valid_orders\n",
    "\n",
    "valid_orders = validate_orders(orders)\n",
    "print(valid_orders)\n",
    "\n",
    "\n",
    "def apply_discount(order_list):\n",
    "    discount = lambda order: {\"customer\": order[\"customer\"], \"total\": order[\"total\"] * 0.9} if order[\"total\"] > 300 else order\n",
    "    discounted_orders = list(map(discount, order_list))\n",
    "    return discounted_orders\n",
    "\n",
    "discounted_orders = apply_discount(valid_orders)\n",
    "print(discounted_orders)\n",
    "\n",
    "from functools import reduce\n",
    "\n",
    "def calculate_total_sales(order_list):\n",
    "    total_sales = reduce(lambda acc, order: acc + order[\"total\"], order_list, 0)\n",
    "    return total_sales\n",
    "\n",
    "total_sales = calculate_total_sales(discounted_orders)\n",
    "print(f\"Total Sales: {total_sales}\")\n"
   ]
  },
  {
   "cell_type": "code",
   "execution_count": 3,
   "metadata": {},
   "outputs": [
    {
     "name": "stdout",
     "output_type": "stream",
     "text": [
      "1\n",
      "4\n",
      "9\n",
      "16\n",
      "25\n",
      "0\n",
      "1\n",
      "1\n",
      "2\n",
      "3\n",
      "5\n",
      "8\n",
      "13\n"
     ]
    }
   ],
   "source": [
    "# Task 2\n",
    "\n",
    "class SquareIterator:\n",
    "    def __init__(self, n):\n",
    "        self.n = n\n",
    "        self.current = 1\n",
    "    \n",
    "    def __iter__(self):\n",
    "        return self\n",
    "    \n",
    "    def __next__(self):\n",
    "        if self.current <= self.n:\n",
    "            result = self.current ** 2\n",
    "            self.current += 1\n",
    "            return result\n",
    "        else:\n",
    "            raise StopIteration\n",
    "\n",
    "# Example usage\n",
    "squares = SquareIterator(5)\n",
    "for square in squares:\n",
    "    print(square)\n",
    "\n",
    "def fibonacci_generator(n):\n",
    "    a, b = 0, 1\n",
    "    while a <= n:\n",
    "        yield a\n",
    "        a, b = b, a + b\n",
    "\n",
    "# Example usage\n",
    "for num in fibonacci_generator(20):\n",
    "    print(num)\n"
   ]
  },
  {
   "cell_type": "code",
   "execution_count": 4,
   "metadata": {},
   "outputs": [
    {
     "name": "stdout",
     "output_type": "stream",
     "text": [
      "Cannot divide by zero!\n",
      "Exception in divide: ZeroDivisionError - division by zero\n"
     ]
    }
   ],
   "source": [
    "# Task 3\n",
    "\n",
    "class DivisionError(Exception):\n",
    "    pass\n",
    "\n",
    "def divide_numbers(num_list, divisor):\n",
    "    try:\n",
    "        if divisor == 0:\n",
    "            raise DivisionError(\"Cannot divide by zero!\")\n",
    "        return [num / divisor for num in num_list]\n",
    "    except DivisionError as e:\n",
    "        raise e\n",
    "    except Exception as e:\n",
    "        raise Exception(\"Non-numeric input\") from e\n",
    "\n",
    "# Example usage\n",
    "try:\n",
    "    result = divide_numbers([10, 20, \"invalid\"], 0)\n",
    "except Exception as e:\n",
    "    print(e)\n",
    "\n",
    "import functools\n",
    "\n",
    "def log_exceptions(func):\n",
    "    @functools.wraps(func)\n",
    "    def wrapper(*args, **kwargs):\n",
    "        try:\n",
    "            return func(*args, **kwargs)\n",
    "        except Exception as e:\n",
    "            print(f\"Exception in {func.__name__}: {type(e).__name__} - {e}\")\n",
    "            raise\n",
    "    return wrapper\n",
    "\n",
    "# Example usage\n",
    "@log_exceptions\n",
    "def divide(a, b):\n",
    "    return a / b\n",
    "\n",
    "try:\n",
    "    result = divide(10, 0)\n",
    "except Exception:\n",
    "    pass\n",
    "\n"
   ]
  }
 ],
 "metadata": {
  "kernelspec": {
   "display_name": "Python 3",
   "language": "python",
   "name": "python3"
  },
  "language_info": {
   "codemirror_mode": {
    "name": "ipython",
    "version": 3
   },
   "file_extension": ".py",
   "mimetype": "text/x-python",
   "name": "python",
   "nbconvert_exporter": "python",
   "pygments_lexer": "ipython3",
   "version": "3.11.9"
  }
 },
 "nbformat": 4,
 "nbformat_minor": 2
}
